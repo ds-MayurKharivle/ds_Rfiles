{
  "nbformat": 4,
  "nbformat_minor": 0,
  "metadata": {
    "colab": {
      "name": "python practice.ipynb",
      "provenance": [],
      "collapsed_sections": []
    },
    "kernelspec": {
      "name": "python3",
      "display_name": "Python 3"
    },
    "language_info": {
      "name": "python"
    }
  },
  "cells": [
    {
      "cell_type": "markdown",
      "metadata": {
        "id": "03dskoHDKsW7"
      },
      "source": [
        ""
      ]
    },
    {
      "cell_type": "code",
      "metadata": {
        "id": "OmhYAgq9HtOg"
      },
      "source": [
        "import pandas as pd"
      ],
      "execution_count": 1,
      "outputs": []
    },
    {
      "cell_type": "code",
      "metadata": {
        "id": "bvNTCjPlIesh"
      },
      "source": [
        "df=pd.read_csv(\"/content/salaries.csv\")"
      ],
      "execution_count": 2,
      "outputs": []
    },
    {
      "cell_type": "code",
      "metadata": {
        "colab": {
          "base_uri": "https://localhost:8080/",
          "height": 295
        },
        "id": "Z21uKiawHx0Y",
        "outputId": "53d2050c-d485-42a9-eb0b-80946ada2146"
      },
      "source": [
        "df.describe()"
      ],
      "execution_count": 4,
      "outputs": [
        {
          "output_type": "execute_result",
          "data": {
            "text/html": [
              "<div>\n",
              "<style scoped>\n",
              "    .dataframe tbody tr th:only-of-type {\n",
              "        vertical-align: middle;\n",
              "    }\n",
              "\n",
              "    .dataframe tbody tr th {\n",
              "        vertical-align: top;\n",
              "    }\n",
              "\n",
              "    .dataframe thead th {\n",
              "        text-align: right;\n",
              "    }\n",
              "</style>\n",
              "<table border=\"1\" class=\"dataframe\">\n",
              "  <thead>\n",
              "    <tr style=\"text-align: right;\">\n",
              "      <th></th>\n",
              "      <th>phd</th>\n",
              "      <th>service</th>\n",
              "      <th>salary</th>\n",
              "    </tr>\n",
              "  </thead>\n",
              "  <tbody>\n",
              "    <tr>\n",
              "      <th>count</th>\n",
              "      <td>78.000000</td>\n",
              "      <td>78.000000</td>\n",
              "      <td>78.000000</td>\n",
              "    </tr>\n",
              "    <tr>\n",
              "      <th>mean</th>\n",
              "      <td>19.705128</td>\n",
              "      <td>15.051282</td>\n",
              "      <td>108023.782051</td>\n",
              "    </tr>\n",
              "    <tr>\n",
              "      <th>std</th>\n",
              "      <td>12.498425</td>\n",
              "      <td>12.139768</td>\n",
              "      <td>28293.661022</td>\n",
              "    </tr>\n",
              "    <tr>\n",
              "      <th>min</th>\n",
              "      <td>1.000000</td>\n",
              "      <td>0.000000</td>\n",
              "      <td>57800.000000</td>\n",
              "    </tr>\n",
              "    <tr>\n",
              "      <th>25%</th>\n",
              "      <td>10.250000</td>\n",
              "      <td>5.250000</td>\n",
              "      <td>88612.500000</td>\n",
              "    </tr>\n",
              "    <tr>\n",
              "      <th>50%</th>\n",
              "      <td>18.500000</td>\n",
              "      <td>14.500000</td>\n",
              "      <td>104671.000000</td>\n",
              "    </tr>\n",
              "    <tr>\n",
              "      <th>75%</th>\n",
              "      <td>27.750000</td>\n",
              "      <td>20.750000</td>\n",
              "      <td>126774.750000</td>\n",
              "    </tr>\n",
              "    <tr>\n",
              "      <th>max</th>\n",
              "      <td>56.000000</td>\n",
              "      <td>51.000000</td>\n",
              "      <td>186960.000000</td>\n",
              "    </tr>\n",
              "  </tbody>\n",
              "</table>\n",
              "</div>"
            ],
            "text/plain": [
              "             phd    service         salary\n",
              "count  78.000000  78.000000      78.000000\n",
              "mean   19.705128  15.051282  108023.782051\n",
              "std    12.498425  12.139768   28293.661022\n",
              "min     1.000000   0.000000   57800.000000\n",
              "25%    10.250000   5.250000   88612.500000\n",
              "50%    18.500000  14.500000  104671.000000\n",
              "75%    27.750000  20.750000  126774.750000\n",
              "max    56.000000  51.000000  186960.000000"
            ]
          },
          "metadata": {},
          "execution_count": 4
        }
      ]
    },
    {
      "cell_type": "code",
      "metadata": {
        "id": "yPLqCv_mHxxS"
      },
      "source": [
        "df_sub=df.head(50)"
      ],
      "execution_count": 5,
      "outputs": []
    },
    {
      "cell_type": "code",
      "metadata": {
        "colab": {
          "base_uri": "https://localhost:8080/"
        },
        "id": "UP9f_eWMHxrc",
        "outputId": "3fdefe99-2dff-41cf-c123-29702b0c6443"
      },
      "source": [
        "df_sub.mean()"
      ],
      "execution_count": 6,
      "outputs": [
        {
          "output_type": "execute_result",
          "data": {
            "text/plain": [
              "phd            21.52\n",
              "service        17.60\n",
              "salary     113789.14\n",
              "dtype: float64"
            ]
          },
          "metadata": {},
          "execution_count": 6
        }
      ]
    },
    {
      "cell_type": "code",
      "metadata": {
        "colab": {
          "base_uri": "https://localhost:8080/"
        },
        "id": "JY6q7PNxHxoD",
        "outputId": "872a21dd-428d-48da-9726-1cb70ff18ae2"
      },
      "source": [
        "df.head(50).mean()"
      ],
      "execution_count": 7,
      "outputs": [
        {
          "output_type": "execute_result",
          "data": {
            "text/plain": [
              "phd            21.52\n",
              "service        17.60\n",
              "salary     113789.14\n",
              "dtype: float64"
            ]
          },
          "metadata": {},
          "execution_count": 7
        }
      ]
    },
    {
      "cell_type": "code",
      "metadata": {
        "colab": {
          "base_uri": "https://localhost:8080/",
          "height": 203
        },
        "id": "CQjQ3gJCHxlA",
        "outputId": "c7e58f8a-def7-4161-9d94-dcc7e8d48e6d"
      },
      "source": [
        "df.head()"
      ],
      "execution_count": 8,
      "outputs": [
        {
          "output_type": "execute_result",
          "data": {
            "text/html": [
              "<div>\n",
              "<style scoped>\n",
              "    .dataframe tbody tr th:only-of-type {\n",
              "        vertical-align: middle;\n",
              "    }\n",
              "\n",
              "    .dataframe tbody tr th {\n",
              "        vertical-align: top;\n",
              "    }\n",
              "\n",
              "    .dataframe thead th {\n",
              "        text-align: right;\n",
              "    }\n",
              "</style>\n",
              "<table border=\"1\" class=\"dataframe\">\n",
              "  <thead>\n",
              "    <tr style=\"text-align: right;\">\n",
              "      <th></th>\n",
              "      <th>rank</th>\n",
              "      <th>discipline</th>\n",
              "      <th>phd</th>\n",
              "      <th>service</th>\n",
              "      <th>sex</th>\n",
              "      <th>salary</th>\n",
              "    </tr>\n",
              "  </thead>\n",
              "  <tbody>\n",
              "    <tr>\n",
              "      <th>0</th>\n",
              "      <td>Prof</td>\n",
              "      <td>B</td>\n",
              "      <td>56</td>\n",
              "      <td>49</td>\n",
              "      <td>Male</td>\n",
              "      <td>186960</td>\n",
              "    </tr>\n",
              "    <tr>\n",
              "      <th>1</th>\n",
              "      <td>Prof</td>\n",
              "      <td>A</td>\n",
              "      <td>12</td>\n",
              "      <td>6</td>\n",
              "      <td>Male</td>\n",
              "      <td>93000</td>\n",
              "    </tr>\n",
              "    <tr>\n",
              "      <th>2</th>\n",
              "      <td>Prof</td>\n",
              "      <td>A</td>\n",
              "      <td>23</td>\n",
              "      <td>20</td>\n",
              "      <td>Male</td>\n",
              "      <td>110515</td>\n",
              "    </tr>\n",
              "    <tr>\n",
              "      <th>3</th>\n",
              "      <td>Prof</td>\n",
              "      <td>A</td>\n",
              "      <td>40</td>\n",
              "      <td>31</td>\n",
              "      <td>Male</td>\n",
              "      <td>131205</td>\n",
              "    </tr>\n",
              "    <tr>\n",
              "      <th>4</th>\n",
              "      <td>Prof</td>\n",
              "      <td>B</td>\n",
              "      <td>20</td>\n",
              "      <td>18</td>\n",
              "      <td>Male</td>\n",
              "      <td>104800</td>\n",
              "    </tr>\n",
              "  </tbody>\n",
              "</table>\n",
              "</div>"
            ],
            "text/plain": [
              "   rank discipline  phd  service   sex  salary\n",
              "0  Prof          B   56       49  Male  186960\n",
              "1  Prof          A   12        6  Male   93000\n",
              "2  Prof          A   23       20  Male  110515\n",
              "3  Prof          A   40       31  Male  131205\n",
              "4  Prof          B   20       18  Male  104800"
            ]
          },
          "metadata": {},
          "execution_count": 8
        }
      ]
    },
    {
      "cell_type": "code",
      "metadata": {
        "colab": {
          "base_uri": "https://localhost:8080/",
          "height": 295
        },
        "id": "cd9coK8XKPJO",
        "outputId": "ff11063f-6fbd-4a57-9699-1881a1dfa7f6"
      },
      "source": [
        "df[['phd']].describe()"
      ],
      "execution_count": 9,
      "outputs": [
        {
          "output_type": "execute_result",
          "data": {
            "text/html": [
              "<div>\n",
              "<style scoped>\n",
              "    .dataframe tbody tr th:only-of-type {\n",
              "        vertical-align: middle;\n",
              "    }\n",
              "\n",
              "    .dataframe tbody tr th {\n",
              "        vertical-align: top;\n",
              "    }\n",
              "\n",
              "    .dataframe thead th {\n",
              "        text-align: right;\n",
              "    }\n",
              "</style>\n",
              "<table border=\"1\" class=\"dataframe\">\n",
              "  <thead>\n",
              "    <tr style=\"text-align: right;\">\n",
              "      <th></th>\n",
              "      <th>phd</th>\n",
              "    </tr>\n",
              "  </thead>\n",
              "  <tbody>\n",
              "    <tr>\n",
              "      <th>count</th>\n",
              "      <td>78.000000</td>\n",
              "    </tr>\n",
              "    <tr>\n",
              "      <th>mean</th>\n",
              "      <td>19.705128</td>\n",
              "    </tr>\n",
              "    <tr>\n",
              "      <th>std</th>\n",
              "      <td>12.498425</td>\n",
              "    </tr>\n",
              "    <tr>\n",
              "      <th>min</th>\n",
              "      <td>1.000000</td>\n",
              "    </tr>\n",
              "    <tr>\n",
              "      <th>25%</th>\n",
              "      <td>10.250000</td>\n",
              "    </tr>\n",
              "    <tr>\n",
              "      <th>50%</th>\n",
              "      <td>18.500000</td>\n",
              "    </tr>\n",
              "    <tr>\n",
              "      <th>75%</th>\n",
              "      <td>27.750000</td>\n",
              "    </tr>\n",
              "    <tr>\n",
              "      <th>max</th>\n",
              "      <td>56.000000</td>\n",
              "    </tr>\n",
              "  </tbody>\n",
              "</table>\n",
              "</div>"
            ],
            "text/plain": [
              "             phd\n",
              "count  78.000000\n",
              "mean   19.705128\n",
              "std    12.498425\n",
              "min     1.000000\n",
              "25%    10.250000\n",
              "50%    18.500000\n",
              "75%    27.750000\n",
              "max    56.000000"
            ]
          },
          "metadata": {},
          "execution_count": 9
        }
      ]
    },
    {
      "cell_type": "code",
      "metadata": {
        "colab": {
          "base_uri": "https://localhost:8080/",
          "height": 172
        },
        "id": "t2pI7EWDKPFv",
        "outputId": "f2a79ea5-8279-4ee7-ef5d-72f7867313ce"
      },
      "source": [
        "df.groupby(['rank']).mean()"
      ],
      "execution_count": 10,
      "outputs": [
        {
          "output_type": "execute_result",
          "data": {
            "text/html": [
              "<div>\n",
              "<style scoped>\n",
              "    .dataframe tbody tr th:only-of-type {\n",
              "        vertical-align: middle;\n",
              "    }\n",
              "\n",
              "    .dataframe tbody tr th {\n",
              "        vertical-align: top;\n",
              "    }\n",
              "\n",
              "    .dataframe thead th {\n",
              "        text-align: right;\n",
              "    }\n",
              "</style>\n",
              "<table border=\"1\" class=\"dataframe\">\n",
              "  <thead>\n",
              "    <tr style=\"text-align: right;\">\n",
              "      <th></th>\n",
              "      <th>phd</th>\n",
              "      <th>service</th>\n",
              "      <th>salary</th>\n",
              "    </tr>\n",
              "    <tr>\n",
              "      <th>rank</th>\n",
              "      <th></th>\n",
              "      <th></th>\n",
              "      <th></th>\n",
              "    </tr>\n",
              "  </thead>\n",
              "  <tbody>\n",
              "    <tr>\n",
              "      <th>AssocProf</th>\n",
              "      <td>15.076923</td>\n",
              "      <td>11.307692</td>\n",
              "      <td>91786.230769</td>\n",
              "    </tr>\n",
              "    <tr>\n",
              "      <th>AsstProf</th>\n",
              "      <td>5.052632</td>\n",
              "      <td>2.210526</td>\n",
              "      <td>81362.789474</td>\n",
              "    </tr>\n",
              "    <tr>\n",
              "      <th>Prof</th>\n",
              "      <td>27.065217</td>\n",
              "      <td>21.413043</td>\n",
              "      <td>123624.804348</td>\n",
              "    </tr>\n",
              "  </tbody>\n",
              "</table>\n",
              "</div>"
            ],
            "text/plain": [
              "                 phd    service         salary\n",
              "rank                                          \n",
              "AssocProf  15.076923  11.307692   91786.230769\n",
              "AsstProf    5.052632   2.210526   81362.789474\n",
              "Prof       27.065217  21.413043  123624.804348"
            ]
          },
          "metadata": {},
          "execution_count": 10
        }
      ]
    },
    {
      "cell_type": "code",
      "metadata": {
        "colab": {
          "base_uri": "https://localhost:8080/"
        },
        "id": "KPIUmWEKKPC1",
        "outputId": "b064ae19-d5cf-4fbc-a9e7-0398c66ca890"
      },
      "source": [
        "df['salary']>120000"
      ],
      "execution_count": 12,
      "outputs": [
        {
          "output_type": "execute_result",
          "data": {
            "text/plain": [
              "0      True\n",
              "1     False\n",
              "2     False\n",
              "3      True\n",
              "4     False\n",
              "      ...  \n",
              "73    False\n",
              "74    False\n",
              "75     True\n",
              "76    False\n",
              "77    False\n",
              "Name: salary, Length: 78, dtype: bool"
            ]
          },
          "metadata": {},
          "execution_count": 12
        }
      ]
    },
    {
      "cell_type": "code",
      "metadata": {
        "colab": {
          "base_uri": "https://localhost:8080/",
          "height": 203
        },
        "id": "gVurPog6KPAY",
        "outputId": "5503dbe8-92a1-47ac-ecc3-f8ad6dfffb63"
      },
      "source": [
        "df.head()"
      ],
      "execution_count": 13,
      "outputs": [
        {
          "output_type": "execute_result",
          "data": {
            "text/html": [
              "<div>\n",
              "<style scoped>\n",
              "    .dataframe tbody tr th:only-of-type {\n",
              "        vertical-align: middle;\n",
              "    }\n",
              "\n",
              "    .dataframe tbody tr th {\n",
              "        vertical-align: top;\n",
              "    }\n",
              "\n",
              "    .dataframe thead th {\n",
              "        text-align: right;\n",
              "    }\n",
              "</style>\n",
              "<table border=\"1\" class=\"dataframe\">\n",
              "  <thead>\n",
              "    <tr style=\"text-align: right;\">\n",
              "      <th></th>\n",
              "      <th>rank</th>\n",
              "      <th>discipline</th>\n",
              "      <th>phd</th>\n",
              "      <th>service</th>\n",
              "      <th>sex</th>\n",
              "      <th>salary</th>\n",
              "    </tr>\n",
              "  </thead>\n",
              "  <tbody>\n",
              "    <tr>\n",
              "      <th>0</th>\n",
              "      <td>Prof</td>\n",
              "      <td>B</td>\n",
              "      <td>56</td>\n",
              "      <td>49</td>\n",
              "      <td>Male</td>\n",
              "      <td>186960</td>\n",
              "    </tr>\n",
              "    <tr>\n",
              "      <th>1</th>\n",
              "      <td>Prof</td>\n",
              "      <td>A</td>\n",
              "      <td>12</td>\n",
              "      <td>6</td>\n",
              "      <td>Male</td>\n",
              "      <td>93000</td>\n",
              "    </tr>\n",
              "    <tr>\n",
              "      <th>2</th>\n",
              "      <td>Prof</td>\n",
              "      <td>A</td>\n",
              "      <td>23</td>\n",
              "      <td>20</td>\n",
              "      <td>Male</td>\n",
              "      <td>110515</td>\n",
              "    </tr>\n",
              "    <tr>\n",
              "      <th>3</th>\n",
              "      <td>Prof</td>\n",
              "      <td>A</td>\n",
              "      <td>40</td>\n",
              "      <td>31</td>\n",
              "      <td>Male</td>\n",
              "      <td>131205</td>\n",
              "    </tr>\n",
              "    <tr>\n",
              "      <th>4</th>\n",
              "      <td>Prof</td>\n",
              "      <td>B</td>\n",
              "      <td>20</td>\n",
              "      <td>18</td>\n",
              "      <td>Male</td>\n",
              "      <td>104800</td>\n",
              "    </tr>\n",
              "  </tbody>\n",
              "</table>\n",
              "</div>"
            ],
            "text/plain": [
              "   rank discipline  phd  service   sex  salary\n",
              "0  Prof          B   56       49  Male  186960\n",
              "1  Prof          A   12        6  Male   93000\n",
              "2  Prof          A   23       20  Male  110515\n",
              "3  Prof          A   40       31  Male  131205\n",
              "4  Prof          B   20       18  Male  104800"
            ]
          },
          "metadata": {},
          "execution_count": 13
        }
      ]
    },
    {
      "cell_type": "code",
      "metadata": {
        "colab": {
          "base_uri": "https://localhost:8080/",
          "height": 819
        },
        "id": "Rh-GTSVBKO9x",
        "outputId": "6cd06077-0af5-4f53-ba54-b7a2bbe99f45"
      },
      "source": [
        "df[df['salary']>120000]"
      ],
      "execution_count": 15,
      "outputs": [
        {
          "output_type": "execute_result",
          "data": {
            "text/html": [
              "<div>\n",
              "<style scoped>\n",
              "    .dataframe tbody tr th:only-of-type {\n",
              "        vertical-align: middle;\n",
              "    }\n",
              "\n",
              "    .dataframe tbody tr th {\n",
              "        vertical-align: top;\n",
              "    }\n",
              "\n",
              "    .dataframe thead th {\n",
              "        text-align: right;\n",
              "    }\n",
              "</style>\n",
              "<table border=\"1\" class=\"dataframe\">\n",
              "  <thead>\n",
              "    <tr style=\"text-align: right;\">\n",
              "      <th></th>\n",
              "      <th>rank</th>\n",
              "      <th>discipline</th>\n",
              "      <th>phd</th>\n",
              "      <th>service</th>\n",
              "      <th>sex</th>\n",
              "      <th>salary</th>\n",
              "    </tr>\n",
              "  </thead>\n",
              "  <tbody>\n",
              "    <tr>\n",
              "      <th>0</th>\n",
              "      <td>Prof</td>\n",
              "      <td>B</td>\n",
              "      <td>56</td>\n",
              "      <td>49</td>\n",
              "      <td>Male</td>\n",
              "      <td>186960</td>\n",
              "    </tr>\n",
              "    <tr>\n",
              "      <th>3</th>\n",
              "      <td>Prof</td>\n",
              "      <td>A</td>\n",
              "      <td>40</td>\n",
              "      <td>31</td>\n",
              "      <td>Male</td>\n",
              "      <td>131205</td>\n",
              "    </tr>\n",
              "    <tr>\n",
              "      <th>5</th>\n",
              "      <td>Prof</td>\n",
              "      <td>A</td>\n",
              "      <td>20</td>\n",
              "      <td>20</td>\n",
              "      <td>Male</td>\n",
              "      <td>122400</td>\n",
              "    </tr>\n",
              "    <tr>\n",
              "      <th>7</th>\n",
              "      <td>Prof</td>\n",
              "      <td>A</td>\n",
              "      <td>18</td>\n",
              "      <td>18</td>\n",
              "      <td>Male</td>\n",
              "      <td>126300</td>\n",
              "    </tr>\n",
              "    <tr>\n",
              "      <th>10</th>\n",
              "      <td>Prof</td>\n",
              "      <td>B</td>\n",
              "      <td>39</td>\n",
              "      <td>33</td>\n",
              "      <td>Male</td>\n",
              "      <td>128250</td>\n",
              "    </tr>\n",
              "    <tr>\n",
              "      <th>11</th>\n",
              "      <td>Prof</td>\n",
              "      <td>B</td>\n",
              "      <td>23</td>\n",
              "      <td>23</td>\n",
              "      <td>Male</td>\n",
              "      <td>134778</td>\n",
              "    </tr>\n",
              "    <tr>\n",
              "      <th>13</th>\n",
              "      <td>Prof</td>\n",
              "      <td>B</td>\n",
              "      <td>35</td>\n",
              "      <td>33</td>\n",
              "      <td>Male</td>\n",
              "      <td>162200</td>\n",
              "    </tr>\n",
              "    <tr>\n",
              "      <th>14</th>\n",
              "      <td>Prof</td>\n",
              "      <td>B</td>\n",
              "      <td>25</td>\n",
              "      <td>19</td>\n",
              "      <td>Male</td>\n",
              "      <td>153750</td>\n",
              "    </tr>\n",
              "    <tr>\n",
              "      <th>15</th>\n",
              "      <td>Prof</td>\n",
              "      <td>B</td>\n",
              "      <td>17</td>\n",
              "      <td>3</td>\n",
              "      <td>Male</td>\n",
              "      <td>150480</td>\n",
              "    </tr>\n",
              "    <tr>\n",
              "      <th>19</th>\n",
              "      <td>Prof</td>\n",
              "      <td>A</td>\n",
              "      <td>29</td>\n",
              "      <td>27</td>\n",
              "      <td>Male</td>\n",
              "      <td>150500</td>\n",
              "    </tr>\n",
              "    <tr>\n",
              "      <th>26</th>\n",
              "      <td>Prof</td>\n",
              "      <td>A</td>\n",
              "      <td>38</td>\n",
              "      <td>19</td>\n",
              "      <td>Male</td>\n",
              "      <td>148750</td>\n",
              "    </tr>\n",
              "    <tr>\n",
              "      <th>27</th>\n",
              "      <td>Prof</td>\n",
              "      <td>A</td>\n",
              "      <td>45</td>\n",
              "      <td>43</td>\n",
              "      <td>Male</td>\n",
              "      <td>155865</td>\n",
              "    </tr>\n",
              "    <tr>\n",
              "      <th>29</th>\n",
              "      <td>Prof</td>\n",
              "      <td>B</td>\n",
              "      <td>21</td>\n",
              "      <td>20</td>\n",
              "      <td>Male</td>\n",
              "      <td>123683</td>\n",
              "    </tr>\n",
              "    <tr>\n",
              "      <th>31</th>\n",
              "      <td>Prof</td>\n",
              "      <td>B</td>\n",
              "      <td>22</td>\n",
              "      <td>21</td>\n",
              "      <td>Male</td>\n",
              "      <td>155750</td>\n",
              "    </tr>\n",
              "    <tr>\n",
              "      <th>35</th>\n",
              "      <td>Prof</td>\n",
              "      <td>B</td>\n",
              "      <td>28</td>\n",
              "      <td>23</td>\n",
              "      <td>Male</td>\n",
              "      <td>126933</td>\n",
              "    </tr>\n",
              "    <tr>\n",
              "      <th>36</th>\n",
              "      <td>Prof</td>\n",
              "      <td>B</td>\n",
              "      <td>45</td>\n",
              "      <td>45</td>\n",
              "      <td>Male</td>\n",
              "      <td>146856</td>\n",
              "    </tr>\n",
              "    <tr>\n",
              "      <th>39</th>\n",
              "      <td>Prof</td>\n",
              "      <td>B</td>\n",
              "      <td>18</td>\n",
              "      <td>18</td>\n",
              "      <td>Female</td>\n",
              "      <td>129000</td>\n",
              "    </tr>\n",
              "    <tr>\n",
              "      <th>40</th>\n",
              "      <td>Prof</td>\n",
              "      <td>A</td>\n",
              "      <td>39</td>\n",
              "      <td>36</td>\n",
              "      <td>Female</td>\n",
              "      <td>137000</td>\n",
              "    </tr>\n",
              "    <tr>\n",
              "      <th>44</th>\n",
              "      <td>Prof</td>\n",
              "      <td>B</td>\n",
              "      <td>23</td>\n",
              "      <td>19</td>\n",
              "      <td>Female</td>\n",
              "      <td>151768</td>\n",
              "    </tr>\n",
              "    <tr>\n",
              "      <th>45</th>\n",
              "      <td>Prof</td>\n",
              "      <td>B</td>\n",
              "      <td>25</td>\n",
              "      <td>25</td>\n",
              "      <td>Female</td>\n",
              "      <td>140096</td>\n",
              "    </tr>\n",
              "    <tr>\n",
              "      <th>49</th>\n",
              "      <td>Prof</td>\n",
              "      <td>B</td>\n",
              "      <td>17</td>\n",
              "      <td>18</td>\n",
              "      <td>Female</td>\n",
              "      <td>122960</td>\n",
              "    </tr>\n",
              "    <tr>\n",
              "      <th>51</th>\n",
              "      <td>Prof</td>\n",
              "      <td>B</td>\n",
              "      <td>20</td>\n",
              "      <td>14</td>\n",
              "      <td>Female</td>\n",
              "      <td>127512</td>\n",
              "    </tr>\n",
              "    <tr>\n",
              "      <th>58</th>\n",
              "      <td>Prof</td>\n",
              "      <td>B</td>\n",
              "      <td>36</td>\n",
              "      <td>26</td>\n",
              "      <td>Female</td>\n",
              "      <td>144651</td>\n",
              "    </tr>\n",
              "    <tr>\n",
              "      <th>72</th>\n",
              "      <td>Prof</td>\n",
              "      <td>B</td>\n",
              "      <td>24</td>\n",
              "      <td>15</td>\n",
              "      <td>Female</td>\n",
              "      <td>161101</td>\n",
              "    </tr>\n",
              "    <tr>\n",
              "      <th>75</th>\n",
              "      <td>Prof</td>\n",
              "      <td>B</td>\n",
              "      <td>17</td>\n",
              "      <td>17</td>\n",
              "      <td>Female</td>\n",
              "      <td>124312</td>\n",
              "    </tr>\n",
              "  </tbody>\n",
              "</table>\n",
              "</div>"
            ],
            "text/plain": [
              "    rank discipline  phd  service     sex  salary\n",
              "0   Prof          B   56       49    Male  186960\n",
              "3   Prof          A   40       31    Male  131205\n",
              "5   Prof          A   20       20    Male  122400\n",
              "7   Prof          A   18       18    Male  126300\n",
              "10  Prof          B   39       33    Male  128250\n",
              "11  Prof          B   23       23    Male  134778\n",
              "13  Prof          B   35       33    Male  162200\n",
              "14  Prof          B   25       19    Male  153750\n",
              "15  Prof          B   17        3    Male  150480\n",
              "19  Prof          A   29       27    Male  150500\n",
              "26  Prof          A   38       19    Male  148750\n",
              "27  Prof          A   45       43    Male  155865\n",
              "29  Prof          B   21       20    Male  123683\n",
              "31  Prof          B   22       21    Male  155750\n",
              "35  Prof          B   28       23    Male  126933\n",
              "36  Prof          B   45       45    Male  146856\n",
              "39  Prof          B   18       18  Female  129000\n",
              "40  Prof          A   39       36  Female  137000\n",
              "44  Prof          B   23       19  Female  151768\n",
              "45  Prof          B   25       25  Female  140096\n",
              "49  Prof          B   17       18  Female  122960\n",
              "51  Prof          B   20       14  Female  127512\n",
              "58  Prof          B   36       26  Female  144651\n",
              "72  Prof          B   24       15  Female  161101\n",
              "75  Prof          B   17       17  Female  124312"
            ]
          },
          "metadata": {},
          "execution_count": 15
        }
      ]
    },
    {
      "cell_type": "code",
      "metadata": {
        "colab": {
          "base_uri": "https://localhost:8080/",
          "height": 172
        },
        "id": "kpll_SmqNzzS",
        "outputId": "b2dd27ef-87f1-4269-c122-03504dbc2019"
      },
      "source": [
        "df.iloc[1:5,3:6]"
      ],
      "execution_count": 17,
      "outputs": [
        {
          "output_type": "execute_result",
          "data": {
            "text/html": [
              "<div>\n",
              "<style scoped>\n",
              "    .dataframe tbody tr th:only-of-type {\n",
              "        vertical-align: middle;\n",
              "    }\n",
              "\n",
              "    .dataframe tbody tr th {\n",
              "        vertical-align: top;\n",
              "    }\n",
              "\n",
              "    .dataframe thead th {\n",
              "        text-align: right;\n",
              "    }\n",
              "</style>\n",
              "<table border=\"1\" class=\"dataframe\">\n",
              "  <thead>\n",
              "    <tr style=\"text-align: right;\">\n",
              "      <th></th>\n",
              "      <th>service</th>\n",
              "      <th>sex</th>\n",
              "      <th>salary</th>\n",
              "    </tr>\n",
              "  </thead>\n",
              "  <tbody>\n",
              "    <tr>\n",
              "      <th>1</th>\n",
              "      <td>6</td>\n",
              "      <td>Male</td>\n",
              "      <td>93000</td>\n",
              "    </tr>\n",
              "    <tr>\n",
              "      <th>2</th>\n",
              "      <td>20</td>\n",
              "      <td>Male</td>\n",
              "      <td>110515</td>\n",
              "    </tr>\n",
              "    <tr>\n",
              "      <th>3</th>\n",
              "      <td>31</td>\n",
              "      <td>Male</td>\n",
              "      <td>131205</td>\n",
              "    </tr>\n",
              "    <tr>\n",
              "      <th>4</th>\n",
              "      <td>18</td>\n",
              "      <td>Male</td>\n",
              "      <td>104800</td>\n",
              "    </tr>\n",
              "  </tbody>\n",
              "</table>\n",
              "</div>"
            ],
            "text/plain": [
              "   service   sex  salary\n",
              "1        6  Male   93000\n",
              "2       20  Male  110515\n",
              "3       31  Male  131205\n",
              "4       18  Male  104800"
            ]
          },
          "metadata": {},
          "execution_count": 17
        }
      ]
    },
    {
      "cell_type": "code",
      "metadata": {
        "colab": {
          "base_uri": "https://localhost:8080/",
          "height": 357
        },
        "id": "tSUFYI99OAgz",
        "outputId": "feb0e7ee-1a71-419b-c996-f5d602fe8059"
      },
      "source": [
        "df.iloc[0:10,0:4]"
      ],
      "execution_count": 25,
      "outputs": [
        {
          "output_type": "execute_result",
          "data": {
            "text/html": [
              "<div>\n",
              "<style scoped>\n",
              "    .dataframe tbody tr th:only-of-type {\n",
              "        vertical-align: middle;\n",
              "    }\n",
              "\n",
              "    .dataframe tbody tr th {\n",
              "        vertical-align: top;\n",
              "    }\n",
              "\n",
              "    .dataframe thead th {\n",
              "        text-align: right;\n",
              "    }\n",
              "</style>\n",
              "<table border=\"1\" class=\"dataframe\">\n",
              "  <thead>\n",
              "    <tr style=\"text-align: right;\">\n",
              "      <th></th>\n",
              "      <th>rank</th>\n",
              "      <th>discipline</th>\n",
              "      <th>phd</th>\n",
              "      <th>service</th>\n",
              "    </tr>\n",
              "  </thead>\n",
              "  <tbody>\n",
              "    <tr>\n",
              "      <th>0</th>\n",
              "      <td>Prof</td>\n",
              "      <td>B</td>\n",
              "      <td>56</td>\n",
              "      <td>49</td>\n",
              "    </tr>\n",
              "    <tr>\n",
              "      <th>1</th>\n",
              "      <td>Prof</td>\n",
              "      <td>A</td>\n",
              "      <td>12</td>\n",
              "      <td>6</td>\n",
              "    </tr>\n",
              "    <tr>\n",
              "      <th>2</th>\n",
              "      <td>Prof</td>\n",
              "      <td>A</td>\n",
              "      <td>23</td>\n",
              "      <td>20</td>\n",
              "    </tr>\n",
              "    <tr>\n",
              "      <th>3</th>\n",
              "      <td>Prof</td>\n",
              "      <td>A</td>\n",
              "      <td>40</td>\n",
              "      <td>31</td>\n",
              "    </tr>\n",
              "    <tr>\n",
              "      <th>4</th>\n",
              "      <td>Prof</td>\n",
              "      <td>B</td>\n",
              "      <td>20</td>\n",
              "      <td>18</td>\n",
              "    </tr>\n",
              "    <tr>\n",
              "      <th>5</th>\n",
              "      <td>Prof</td>\n",
              "      <td>A</td>\n",
              "      <td>20</td>\n",
              "      <td>20</td>\n",
              "    </tr>\n",
              "    <tr>\n",
              "      <th>6</th>\n",
              "      <td>AssocProf</td>\n",
              "      <td>A</td>\n",
              "      <td>20</td>\n",
              "      <td>17</td>\n",
              "    </tr>\n",
              "    <tr>\n",
              "      <th>7</th>\n",
              "      <td>Prof</td>\n",
              "      <td>A</td>\n",
              "      <td>18</td>\n",
              "      <td>18</td>\n",
              "    </tr>\n",
              "    <tr>\n",
              "      <th>8</th>\n",
              "      <td>Prof</td>\n",
              "      <td>A</td>\n",
              "      <td>29</td>\n",
              "      <td>19</td>\n",
              "    </tr>\n",
              "    <tr>\n",
              "      <th>9</th>\n",
              "      <td>Prof</td>\n",
              "      <td>A</td>\n",
              "      <td>51</td>\n",
              "      <td>51</td>\n",
              "    </tr>\n",
              "  </tbody>\n",
              "</table>\n",
              "</div>"
            ],
            "text/plain": [
              "        rank discipline  phd  service\n",
              "0       Prof          B   56       49\n",
              "1       Prof          A   12        6\n",
              "2       Prof          A   23       20\n",
              "3       Prof          A   40       31\n",
              "4       Prof          B   20       18\n",
              "5       Prof          A   20       20\n",
              "6  AssocProf          A   20       17\n",
              "7       Prof          A   18       18\n",
              "8       Prof          A   29       19\n",
              "9       Prof          A   51       51"
            ]
          },
          "metadata": {},
          "execution_count": 25
        }
      ]
    },
    {
      "cell_type": "code",
      "metadata": {
        "colab": {
          "base_uri": "https://localhost:8080/",
          "height": 417
        },
        "id": "Eh_4FQ-UOAdR",
        "outputId": "a1a89916-a306-4f6c-a2d8-2c2583f0b384"
      },
      "source": [
        "df.iloc[:,4:7]"
      ],
      "execution_count": 26,
      "outputs": [
        {
          "output_type": "execute_result",
          "data": {
            "text/html": [
              "<div>\n",
              "<style scoped>\n",
              "    .dataframe tbody tr th:only-of-type {\n",
              "        vertical-align: middle;\n",
              "    }\n",
              "\n",
              "    .dataframe tbody tr th {\n",
              "        vertical-align: top;\n",
              "    }\n",
              "\n",
              "    .dataframe thead th {\n",
              "        text-align: right;\n",
              "    }\n",
              "</style>\n",
              "<table border=\"1\" class=\"dataframe\">\n",
              "  <thead>\n",
              "    <tr style=\"text-align: right;\">\n",
              "      <th></th>\n",
              "      <th>sex</th>\n",
              "      <th>salary</th>\n",
              "    </tr>\n",
              "  </thead>\n",
              "  <tbody>\n",
              "    <tr>\n",
              "      <th>0</th>\n",
              "      <td>Male</td>\n",
              "      <td>186960</td>\n",
              "    </tr>\n",
              "    <tr>\n",
              "      <th>1</th>\n",
              "      <td>Male</td>\n",
              "      <td>93000</td>\n",
              "    </tr>\n",
              "    <tr>\n",
              "      <th>2</th>\n",
              "      <td>Male</td>\n",
              "      <td>110515</td>\n",
              "    </tr>\n",
              "    <tr>\n",
              "      <th>3</th>\n",
              "      <td>Male</td>\n",
              "      <td>131205</td>\n",
              "    </tr>\n",
              "    <tr>\n",
              "      <th>4</th>\n",
              "      <td>Male</td>\n",
              "      <td>104800</td>\n",
              "    </tr>\n",
              "    <tr>\n",
              "      <th>...</th>\n",
              "      <td>...</td>\n",
              "      <td>...</td>\n",
              "    </tr>\n",
              "    <tr>\n",
              "      <th>73</th>\n",
              "      <td>Female</td>\n",
              "      <td>105450</td>\n",
              "    </tr>\n",
              "    <tr>\n",
              "      <th>74</th>\n",
              "      <td>Female</td>\n",
              "      <td>104542</td>\n",
              "    </tr>\n",
              "    <tr>\n",
              "      <th>75</th>\n",
              "      <td>Female</td>\n",
              "      <td>124312</td>\n",
              "    </tr>\n",
              "    <tr>\n",
              "      <th>76</th>\n",
              "      <td>Female</td>\n",
              "      <td>109954</td>\n",
              "    </tr>\n",
              "    <tr>\n",
              "      <th>77</th>\n",
              "      <td>Female</td>\n",
              "      <td>109646</td>\n",
              "    </tr>\n",
              "  </tbody>\n",
              "</table>\n",
              "<p>78 rows × 2 columns</p>\n",
              "</div>"
            ],
            "text/plain": [
              "       sex  salary\n",
              "0     Male  186960\n",
              "1     Male   93000\n",
              "2     Male  110515\n",
              "3     Male  131205\n",
              "4     Male  104800\n",
              "..     ...     ...\n",
              "73  Female  105450\n",
              "74  Female  104542\n",
              "75  Female  124312\n",
              "76  Female  109954\n",
              "77  Female  109646\n",
              "\n",
              "[78 rows x 2 columns]"
            ]
          },
          "metadata": {},
          "execution_count": 26
        }
      ]
    },
    {
      "cell_type": "code",
      "metadata": {
        "colab": {
          "base_uri": "https://localhost:8080/",
          "height": 80
        },
        "id": "w4Ns5oyuOAaZ",
        "outputId": "575e9ba0-8102-4865-c987-f69cc7af02a3"
      },
      "source": [
        "df.iloc[[59]]"
      ],
      "execution_count": 28,
      "outputs": [
        {
          "output_type": "execute_result",
          "data": {
            "text/html": [
              "<div>\n",
              "<style scoped>\n",
              "    .dataframe tbody tr th:only-of-type {\n",
              "        vertical-align: middle;\n",
              "    }\n",
              "\n",
              "    .dataframe tbody tr th {\n",
              "        vertical-align: top;\n",
              "    }\n",
              "\n",
              "    .dataframe thead th {\n",
              "        text-align: right;\n",
              "    }\n",
              "</style>\n",
              "<table border=\"1\" class=\"dataframe\">\n",
              "  <thead>\n",
              "    <tr style=\"text-align: right;\">\n",
              "      <th></th>\n",
              "      <th>rank</th>\n",
              "      <th>discipline</th>\n",
              "      <th>phd</th>\n",
              "      <th>service</th>\n",
              "      <th>sex</th>\n",
              "      <th>salary</th>\n",
              "    </tr>\n",
              "  </thead>\n",
              "  <tbody>\n",
              "    <tr>\n",
              "      <th>59</th>\n",
              "      <td>AssocProf</td>\n",
              "      <td>B</td>\n",
              "      <td>12</td>\n",
              "      <td>10</td>\n",
              "      <td>Female</td>\n",
              "      <td>103994</td>\n",
              "    </tr>\n",
              "  </tbody>\n",
              "</table>\n",
              "</div>"
            ],
            "text/plain": [
              "         rank discipline  phd  service     sex  salary\n",
              "59  AssocProf          B   12       10  Female  103994"
            ]
          },
          "metadata": {},
          "execution_count": 28
        }
      ]
    },
    {
      "cell_type": "code",
      "metadata": {
        "colab": {
          "base_uri": "https://localhost:8080/",
          "height": 110
        },
        "id": "GCWHRqZbOAXu",
        "outputId": "e9b500d3-dddd-42e3-9532-17632e9a858f"
      },
      "source": [
        "df.iloc[[0,2]]"
      ],
      "execution_count": 32,
      "outputs": [
        {
          "output_type": "execute_result",
          "data": {
            "text/html": [
              "<div>\n",
              "<style scoped>\n",
              "    .dataframe tbody tr th:only-of-type {\n",
              "        vertical-align: middle;\n",
              "    }\n",
              "\n",
              "    .dataframe tbody tr th {\n",
              "        vertical-align: top;\n",
              "    }\n",
              "\n",
              "    .dataframe thead th {\n",
              "        text-align: right;\n",
              "    }\n",
              "</style>\n",
              "<table border=\"1\" class=\"dataframe\">\n",
              "  <thead>\n",
              "    <tr style=\"text-align: right;\">\n",
              "      <th></th>\n",
              "      <th>rank</th>\n",
              "      <th>discipline</th>\n",
              "      <th>phd</th>\n",
              "      <th>service</th>\n",
              "      <th>sex</th>\n",
              "      <th>salary</th>\n",
              "    </tr>\n",
              "  </thead>\n",
              "  <tbody>\n",
              "    <tr>\n",
              "      <th>0</th>\n",
              "      <td>Prof</td>\n",
              "      <td>B</td>\n",
              "      <td>56</td>\n",
              "      <td>49</td>\n",
              "      <td>Male</td>\n",
              "      <td>186960</td>\n",
              "    </tr>\n",
              "    <tr>\n",
              "      <th>2</th>\n",
              "      <td>Prof</td>\n",
              "      <td>A</td>\n",
              "      <td>23</td>\n",
              "      <td>20</td>\n",
              "      <td>Male</td>\n",
              "      <td>110515</td>\n",
              "    </tr>\n",
              "  </tbody>\n",
              "</table>\n",
              "</div>"
            ],
            "text/plain": [
              "   rank discipline  phd  service   sex  salary\n",
              "0  Prof          B   56       49  Male  186960\n",
              "2  Prof          A   23       20  Male  110515"
            ]
          },
          "metadata": {},
          "execution_count": 32
        }
      ]
    },
    {
      "cell_type": "code",
      "metadata": {
        "colab": {
          "base_uri": "https://localhost:8080/",
          "height": 142
        },
        "id": "Mt2TqRUmOAVO",
        "outputId": "2da49454-b27e-49ab-bb0e-eeae0eb66c91"
      },
      "source": [
        "df[['phd','salary']].agg(['min','mean','max'])"
      ],
      "execution_count": 33,
      "outputs": [
        {
          "output_type": "execute_result",
          "data": {
            "text/html": [
              "<div>\n",
              "<style scoped>\n",
              "    .dataframe tbody tr th:only-of-type {\n",
              "        vertical-align: middle;\n",
              "    }\n",
              "\n",
              "    .dataframe tbody tr th {\n",
              "        vertical-align: top;\n",
              "    }\n",
              "\n",
              "    .dataframe thead th {\n",
              "        text-align: right;\n",
              "    }\n",
              "</style>\n",
              "<table border=\"1\" class=\"dataframe\">\n",
              "  <thead>\n",
              "    <tr style=\"text-align: right;\">\n",
              "      <th></th>\n",
              "      <th>phd</th>\n",
              "      <th>salary</th>\n",
              "    </tr>\n",
              "  </thead>\n",
              "  <tbody>\n",
              "    <tr>\n",
              "      <th>min</th>\n",
              "      <td>1.000000</td>\n",
              "      <td>57800.000000</td>\n",
              "    </tr>\n",
              "    <tr>\n",
              "      <th>mean</th>\n",
              "      <td>19.705128</td>\n",
              "      <td>108023.782051</td>\n",
              "    </tr>\n",
              "    <tr>\n",
              "      <th>max</th>\n",
              "      <td>56.000000</td>\n",
              "      <td>186960.000000</td>\n",
              "    </tr>\n",
              "  </tbody>\n",
              "</table>\n",
              "</div>"
            ],
            "text/plain": [
              "            phd         salary\n",
              "min    1.000000   57800.000000\n",
              "mean  19.705128  108023.782051\n",
              "max   56.000000  186960.000000"
            ]
          },
          "metadata": {},
          "execution_count": 33
        }
      ]
    },
    {
      "cell_type": "code",
      "metadata": {
        "id": "RvRD89L-OASj"
      },
      "source": [
        ""
      ],
      "execution_count": null,
      "outputs": []
    },
    {
      "cell_type": "code",
      "metadata": {
        "id": "CVsO2nWeOAP1"
      },
      "source": [
        ""
      ],
      "execution_count": null,
      "outputs": []
    },
    {
      "cell_type": "code",
      "metadata": {
        "id": "sxXdGlqUOANe"
      },
      "source": [
        ""
      ],
      "execution_count": null,
      "outputs": []
    },
    {
      "cell_type": "code",
      "metadata": {
        "id": "CTVaxulaOAKz"
      },
      "source": [
        ""
      ],
      "execution_count": null,
      "outputs": []
    },
    {
      "cell_type": "code",
      "metadata": {
        "id": "PQci8l0EOAIN"
      },
      "source": [
        ""
      ],
      "execution_count": null,
      "outputs": []
    }
  ]
}